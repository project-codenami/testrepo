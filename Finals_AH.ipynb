{
 "cells": [
  {
   "cell_type": "markdown",
   "id": "f51129f6-48ee-43b3-b22e-5dbe23a53838",
   "metadata": {},
   "source": [
    "# My Jupyter Notebook on IBM Watson Studio"
   ]
  },
  {
   "cell_type": "markdown",
   "id": "eafb9300-3ab3-4106-b195-a0e9b5c87cc6",
   "metadata": {},
   "source": [
    "**arif hidayat**\n",
    "<br>\n",
    "data scientist\n"
   ]
  },
  {
   "cell_type": "markdown",
   "id": "946ba50c-d419-45ed-9d73-b9b9c9592112",
   "metadata": {},
   "source": [
    "*I am interested in data science because it is most top paid job in my country*"
   ]
  },
  {
   "cell_type": "markdown",
   "id": "65b0b71d-9ad6-4983-933c-df9a601a08f2",
   "metadata": {},
   "source": [
    "###  i am going to code calculation result of 100"
   ]
  },
  {
   "cell_type": "code",
   "execution_count": 11,
   "id": "eb6fa68a-d4e0-471e-a7aa-8a850ddf8784",
   "metadata": {},
   "outputs": [
    {
     "data": {
      "text/plain": [
       "100.0"
      ]
     },
     "execution_count": 11,
     "metadata": {},
     "output_type": "execute_result"
    }
   ],
   "source": [
    "(25+25)*20/10"
   ]
  },
  {
   "cell_type": "markdown",
   "id": "3a7472b4-dfb0-4829-a7f6-34cfc38d88bb",
   "metadata": {},
   "source": [
    "most commonly use tools for data science are:\n",
    "1. jupyterlab\n",
    "2. R studio\n",
    "3. github\n",
    "***\n",
    "[click here to learn about data science](https://www.coursera.org/learn/what-is-datascience)\n"
   ]
  },
  {
   "cell_type": "code",
   "execution_count": null,
   "id": "7a021b93-a0ee-4d69-97cc-d028b7d4acbb",
   "metadata": {},
   "outputs": [],
   "source": []
  }
 ],
 "metadata": {
  "kernelspec": {
   "display_name": "Python",
   "language": "python",
   "name": "conda-env-python-py"
  },
  "language_info": {
   "codemirror_mode": {
    "name": "ipython",
    "version": 3
   },
   "file_extension": ".py",
   "mimetype": "text/x-python",
   "name": "python",
   "nbconvert_exporter": "python",
   "pygments_lexer": "ipython3",
   "version": "3.7.12"
  }
 },
 "nbformat": 4,
 "nbformat_minor": 5
}
